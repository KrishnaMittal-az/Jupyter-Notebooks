{
 "cells": [
  {
   "metadata": {
    "ExecuteTime": {
     "end_time": "2024-08-27T05:05:27.345776Z",
     "start_time": "2024-08-27T05:05:26.693807Z"
    }
   },
   "cell_type": "code",
   "source": [
    "import  pandas as pd\n",
    "import numpy as np"
   ],
   "id": "10350e7c58f55efc",
   "outputs": [],
   "execution_count": 1
  },
  {
   "metadata": {
    "ExecuteTime": {
     "end_time": "2024-08-27T05:08:22.897320Z",
     "start_time": "2024-08-27T05:08:22.882854Z"
    }
   },
   "cell_type": "code",
   "source": [
    "#Sample Dataset\n",
    "data = {'A' : [1,2,np.nan , 4 , 5] ,\n",
    "        'B' : [5 , np.nan , np.nan , 8 , 10] ,\n",
    "        'C' : ['cat' , 'dog' , 'cat' , np.nan , 'dog']}\n"
   ],
   "id": "acdf4b23a244c236",
   "outputs": [],
   "execution_count": 2
  },
  {
   "metadata": {
    "ExecuteTime": {
     "end_time": "2024-08-27T05:08:35.237369Z",
     "start_time": "2024-08-27T05:08:35.203744Z"
    }
   },
   "cell_type": "code",
   "source": [
    "df = pd.DataFrame(data)\n",
    "df"
   ],
   "id": "da5a56002b39c60b",
   "outputs": [
    {
     "data": {
      "text/plain": [
       "     A     B    C\n",
       "0  1.0   5.0  cat\n",
       "1  2.0   NaN  dog\n",
       "2  NaN   NaN  cat\n",
       "3  4.0   8.0  NaN\n",
       "4  5.0  10.0  dog"
      ],
      "text/html": [
       "<div>\n",
       "<style scoped>\n",
       "    .dataframe tbody tr th:only-of-type {\n",
       "        vertical-align: middle;\n",
       "    }\n",
       "\n",
       "    .dataframe tbody tr th {\n",
       "        vertical-align: top;\n",
       "    }\n",
       "\n",
       "    .dataframe thead th {\n",
       "        text-align: right;\n",
       "    }\n",
       "</style>\n",
       "<table border=\"1\" class=\"dataframe\">\n",
       "  <thead>\n",
       "    <tr style=\"text-align: right;\">\n",
       "      <th></th>\n",
       "      <th>A</th>\n",
       "      <th>B</th>\n",
       "      <th>C</th>\n",
       "    </tr>\n",
       "  </thead>\n",
       "  <tbody>\n",
       "    <tr>\n",
       "      <th>0</th>\n",
       "      <td>1.0</td>\n",
       "      <td>5.0</td>\n",
       "      <td>cat</td>\n",
       "    </tr>\n",
       "    <tr>\n",
       "      <th>1</th>\n",
       "      <td>2.0</td>\n",
       "      <td>NaN</td>\n",
       "      <td>dog</td>\n",
       "    </tr>\n",
       "    <tr>\n",
       "      <th>2</th>\n",
       "      <td>NaN</td>\n",
       "      <td>NaN</td>\n",
       "      <td>cat</td>\n",
       "    </tr>\n",
       "    <tr>\n",
       "      <th>3</th>\n",
       "      <td>4.0</td>\n",
       "      <td>8.0</td>\n",
       "      <td>NaN</td>\n",
       "    </tr>\n",
       "    <tr>\n",
       "      <th>4</th>\n",
       "      <td>5.0</td>\n",
       "      <td>10.0</td>\n",
       "      <td>dog</td>\n",
       "    </tr>\n",
       "  </tbody>\n",
       "</table>\n",
       "</div>"
      ]
     },
     "execution_count": 3,
     "metadata": {},
     "output_type": "execute_result"
    }
   ],
   "execution_count": 3
  },
  {
   "metadata": {
    "ExecuteTime": {
     "end_time": "2024-08-27T05:11:49.290029Z",
     "start_time": "2024-08-27T05:11:49.251659Z"
    }
   },
   "cell_type": "code",
   "source": "df.info()",
   "id": "441cbdb2c0d7e2ed",
   "outputs": [
    {
     "name": "stdout",
     "output_type": "stream",
     "text": [
      "<class 'pandas.core.frame.DataFrame'>\n",
      "RangeIndex: 5 entries, 0 to 4\n",
      "Data columns (total 3 columns):\n",
      " #   Column  Non-Null Count  Dtype  \n",
      "---  ------  --------------  -----  \n",
      " 0   A       4 non-null      float64\n",
      " 1   B       3 non-null      float64\n",
      " 2   C       4 non-null      object \n",
      "dtypes: float64(2), object(1)\n",
      "memory usage: 252.0+ bytes\n"
     ]
    }
   ],
   "execution_count": 5
  },
  {
   "metadata": {
    "ExecuteTime": {
     "end_time": "2024-08-27T05:14:22.183271Z",
     "start_time": "2024-08-27T05:14:22.159106Z"
    }
   },
   "cell_type": "code",
   "source": [
    "#Imputing with Constant Value\n",
    "df_filled_na = df.fillna(0)\n",
    "df_filled_na"
   ],
   "id": "eb4f7561cf3a9be6",
   "outputs": [
    {
     "data": {
      "text/plain": [
       "     A     B    C\n",
       "0  1.0   5.0  cat\n",
       "1  2.0   0.0  dog\n",
       "2  0.0   0.0  cat\n",
       "3  4.0   8.0    0\n",
       "4  5.0  10.0  dog"
      ],
      "text/html": [
       "<div>\n",
       "<style scoped>\n",
       "    .dataframe tbody tr th:only-of-type {\n",
       "        vertical-align: middle;\n",
       "    }\n",
       "\n",
       "    .dataframe tbody tr th {\n",
       "        vertical-align: top;\n",
       "    }\n",
       "\n",
       "    .dataframe thead th {\n",
       "        text-align: right;\n",
       "    }\n",
       "</style>\n",
       "<table border=\"1\" class=\"dataframe\">\n",
       "  <thead>\n",
       "    <tr style=\"text-align: right;\">\n",
       "      <th></th>\n",
       "      <th>A</th>\n",
       "      <th>B</th>\n",
       "      <th>C</th>\n",
       "    </tr>\n",
       "  </thead>\n",
       "  <tbody>\n",
       "    <tr>\n",
       "      <th>0</th>\n",
       "      <td>1.0</td>\n",
       "      <td>5.0</td>\n",
       "      <td>cat</td>\n",
       "    </tr>\n",
       "    <tr>\n",
       "      <th>1</th>\n",
       "      <td>2.0</td>\n",
       "      <td>0.0</td>\n",
       "      <td>dog</td>\n",
       "    </tr>\n",
       "    <tr>\n",
       "      <th>2</th>\n",
       "      <td>0.0</td>\n",
       "      <td>0.0</td>\n",
       "      <td>cat</td>\n",
       "    </tr>\n",
       "    <tr>\n",
       "      <th>3</th>\n",
       "      <td>4.0</td>\n",
       "      <td>8.0</td>\n",
       "      <td>0</td>\n",
       "    </tr>\n",
       "    <tr>\n",
       "      <th>4</th>\n",
       "      <td>5.0</td>\n",
       "      <td>10.0</td>\n",
       "      <td>dog</td>\n",
       "    </tr>\n",
       "  </tbody>\n",
       "</table>\n",
       "</div>"
      ]
     },
     "execution_count": 7,
     "metadata": {},
     "output_type": "execute_result"
    }
   ],
   "execution_count": 7
  },
  {
   "metadata": {
    "ExecuteTime": {
     "end_time": "2024-08-27T05:21:38.688802Z",
     "start_time": "2024-08-27T05:21:38.678825Z"
    }
   },
   "cell_type": "code",
   "source": [
    "#Imputing with mean in numerical values\n",
    "df['A'] = df['A'].fillna(df['A'].mean())\n",
    "df['B'] = df['B'].fillna(df['B'].mean())\n",
    "\n",
    "#Imputing with mode in categorical values\n",
    "\n",
    "df['C'] = df['C'].fillna(df['C'].mode()[0])\n",
    "df"
   ],
   "id": "309eb79997f01c2f",
   "outputs": [
    {
     "data": {
      "text/plain": [
       "     A          B    C\n",
       "0  1.0   5.000000  cat\n",
       "1  2.0   7.666667  dog\n",
       "2  3.0   7.666667  cat\n",
       "3  4.0   8.000000  cat\n",
       "4  5.0  10.000000  dog"
      ],
      "text/html": [
       "<div>\n",
       "<style scoped>\n",
       "    .dataframe tbody tr th:only-of-type {\n",
       "        vertical-align: middle;\n",
       "    }\n",
       "\n",
       "    .dataframe tbody tr th {\n",
       "        vertical-align: top;\n",
       "    }\n",
       "\n",
       "    .dataframe thead th {\n",
       "        text-align: right;\n",
       "    }\n",
       "</style>\n",
       "<table border=\"1\" class=\"dataframe\">\n",
       "  <thead>\n",
       "    <tr style=\"text-align: right;\">\n",
       "      <th></th>\n",
       "      <th>A</th>\n",
       "      <th>B</th>\n",
       "      <th>C</th>\n",
       "    </tr>\n",
       "  </thead>\n",
       "  <tbody>\n",
       "    <tr>\n",
       "      <th>0</th>\n",
       "      <td>1.0</td>\n",
       "      <td>5.000000</td>\n",
       "      <td>cat</td>\n",
       "    </tr>\n",
       "    <tr>\n",
       "      <th>1</th>\n",
       "      <td>2.0</td>\n",
       "      <td>7.666667</td>\n",
       "      <td>dog</td>\n",
       "    </tr>\n",
       "    <tr>\n",
       "      <th>2</th>\n",
       "      <td>3.0</td>\n",
       "      <td>7.666667</td>\n",
       "      <td>cat</td>\n",
       "    </tr>\n",
       "    <tr>\n",
       "      <th>3</th>\n",
       "      <td>4.0</td>\n",
       "      <td>8.000000</td>\n",
       "      <td>cat</td>\n",
       "    </tr>\n",
       "    <tr>\n",
       "      <th>4</th>\n",
       "      <td>5.0</td>\n",
       "      <td>10.000000</td>\n",
       "      <td>dog</td>\n",
       "    </tr>\n",
       "  </tbody>\n",
       "</table>\n",
       "</div>"
      ]
     },
     "execution_count": 12,
     "metadata": {},
     "output_type": "execute_result"
    }
   ],
   "execution_count": 12
  },
  {
   "metadata": {
    "ExecuteTime": {
     "end_time": "2024-08-27T05:26:21.988880Z",
     "start_time": "2024-08-27T05:26:21.442742Z"
    }
   },
   "cell_type": "code",
   "source": "from sklearn.impute import SimpleImputer",
   "id": "e7b00c9b0c69061b",
   "outputs": [],
   "execution_count": 14
  },
  {
   "metadata": {
    "ExecuteTime": {
     "end_time": "2024-08-27T05:33:31.612976Z",
     "start_time": "2024-08-27T05:33:31.600456Z"
    }
   },
   "cell_type": "code",
   "source": [
    "#imputing numerical colomns with mean\n",
    "\n",
    "numerical_imputer = SimpleImputer(strategy='mean')\n",
    "df[['A' , 'B']] = numerical_imputer.fit_transform(df[['A' , 'B']])\n",
    "print(df)\n",
    "\n",
    "#=====================================================================\n",
    "\n",
    "#Imputing categorial colomns with most frequent(mode)\n",
    "\n",
    "categorical_imputer = SimpleImputer(strategy='most_frequent')\n",
    "df[['C']] = categorical_imputer.fit_transform(df[['C']])\n",
    "print(df)\n"
   ],
   "id": "f67547a4433725fb",
   "outputs": [
    {
     "name": "stdout",
     "output_type": "stream",
     "text": [
      "     A          B    C\n",
      "0  1.0   5.000000  cat\n",
      "1  2.0   7.666667  dog\n",
      "2  3.0   7.666667  cat\n",
      "3  4.0   8.000000  cat\n",
      "4  5.0  10.000000  dog\n",
      "     A          B    C\n",
      "0  1.0   5.000000  cat\n",
      "1  2.0   7.666667  dog\n",
      "2  3.0   7.666667  cat\n",
      "3  4.0   8.000000  cat\n",
      "4  5.0  10.000000  dog\n"
     ]
    }
   ],
   "execution_count": 17
  },
  {
   "metadata": {},
   "cell_type": "markdown",
   "source": "# Normalization",
   "id": "3f4b3b52f5a73176"
  },
  {
   "metadata": {
    "ExecuteTime": {
     "end_time": "2024-08-27T05:47:18.648119Z",
     "start_time": "2024-08-27T05:47:18.575252Z"
    }
   },
   "cell_type": "code",
   "source": "from sklearn.preprocessing import MinMaxScaler",
   "id": "cde35426bf67db95",
   "outputs": [],
   "execution_count": 18
  },
  {
   "metadata": {
    "ExecuteTime": {
     "end_time": "2024-08-27T05:48:31.079126Z",
     "start_time": "2024-08-27T05:48:31.031561Z"
    }
   },
   "cell_type": "code",
   "source": [
    "data = {'Feature 1' : [10,20,30,40,50] , \n",
    "        'Feature 2' : [100,200,300,400,500]}\n",
    "df = pd.DataFrame(data)\n",
    "print(df)"
   ],
   "id": "ba0e820b656fa663",
   "outputs": [
    {
     "name": "stdout",
     "output_type": "stream",
     "text": [
      "   Feature 1  Feature 2\n",
      "0         10        100\n",
      "1         20        200\n",
      "2         30        300\n",
      "3         40        400\n",
      "4         50        500\n"
     ]
    }
   ],
   "execution_count": 19
  },
  {
   "metadata": {
    "ExecuteTime": {
     "end_time": "2024-08-27T05:53:19.484357Z",
     "start_time": "2024-08-27T05:53:19.402080Z"
    }
   },
   "cell_type": "code",
   "source": [
    "scaler = MinMaxScaler()\n",
    "\n",
    "df_normalized = pd.DataFrame(scaler.fit_transform(df) , \n",
    "                             columns = df.columns)\n",
    "print(df_normalized)"
   ],
   "id": "d69448aafbc832e5",
   "outputs": [
    {
     "name": "stdout",
     "output_type": "stream",
     "text": [
      "   Feature 1  Feature 2\n",
      "0       0.00       0.00\n",
      "1       0.25       0.25\n",
      "2       0.50       0.50\n",
      "3       0.75       0.75\n",
      "4       1.00       1.00\n"
     ]
    }
   ],
   "execution_count": 20
  },
  {
   "metadata": {},
   "cell_type": "markdown",
   "source": "# Standardization",
   "id": "8709e0fc706b8c1f"
  },
  {
   "metadata": {
    "ExecuteTime": {
     "end_time": "2024-08-27T06:12:19.611674Z",
     "start_time": "2024-08-27T06:12:19.520017Z"
    }
   },
   "cell_type": "code",
   "source": [
    "from sklearn.preprocessing import StandardScaler\n",
    "\n",
    "data = {'Feature 1' : [10,20,30,40,50] ,\n",
    "        'Feature 2' : [100,200,300,400,500]}\n",
    "\n",
    "df = pd.DataFrame(data)\n",
    "\n",
    "#Standardization\n",
    "\n",
    "scaler = StandardScaler()\n",
    "df_standard = pd.DataFrame(scaler.fit_transform(df) ,\n",
    "                           columns = df.columns)\n",
    "print(df_standard)"
   ],
   "id": "c5a61240f7c257a",
   "outputs": [
    {
     "name": "stdout",
     "output_type": "stream",
     "text": [
      "   Feature 1  Feature 2\n",
      "0  -1.414214  -1.414214\n",
      "1  -0.707107  -0.707107\n",
      "2   0.000000   0.000000\n",
      "3   0.707107   0.707107\n",
      "4   1.414214   1.414214\n"
     ]
    }
   ],
   "execution_count": 21
  },
  {
   "metadata": {},
   "cell_type": "code",
   "outputs": [],
   "execution_count": null,
   "source": "",
   "id": "de7fca179a1b1ba0"
  }
 ],
 "metadata": {
  "kernelspec": {
   "display_name": "Python 3",
   "language": "python",
   "name": "python3"
  },
  "language_info": {
   "codemirror_mode": {
    "name": "ipython",
    "version": 2
   },
   "file_extension": ".py",
   "mimetype": "text/x-python",
   "name": "python",
   "nbconvert_exporter": "python",
   "pygments_lexer": "ipython2",
   "version": "2.7.6"
  }
 },
 "nbformat": 4,
 "nbformat_minor": 5
}
