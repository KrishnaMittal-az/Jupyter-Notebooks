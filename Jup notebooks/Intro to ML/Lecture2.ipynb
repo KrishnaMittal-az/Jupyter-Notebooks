{
 "cells": [
  {
   "cell_type": "code",
   "execution_count": 9,
   "id": "10350e7c58f55efc",
   "metadata": {
    "ExecuteTime": {
     "end_time": "2024-10-06T07:35:17.111464Z",
     "start_time": "2024-10-06T07:35:16.358826Z"
    }
   },
   "outputs": [],
   "source": [
    "import  pandas as pd\n",
    "import numpy as np"
   ]
  },
  {
   "cell_type": "code",
   "execution_count": 10,
   "id": "acdf4b23a244c236",
   "metadata": {
    "ExecuteTime": {
     "end_time": "2024-10-06T07:35:17.120287Z",
     "start_time": "2024-10-06T07:35:17.116577Z"
    }
   },
   "outputs": [],
   "source": [
    "#Sample Dataset\n",
    "data = {'A' : [1,2,np.nan , 4 , 5] ,\n",
    "        'B' : [5 , np.nan , np.nan , 8 , 10] ,\n",
    "        'C' : ['cat' , 'dog' , 'cat' , np.nan , 'dog']}\n"
   ]
  },
  {
   "cell_type": "code",
   "execution_count": 11,
   "id": "da5a56002b39c60b",
   "metadata": {
    "ExecuteTime": {
     "end_time": "2024-10-06T07:35:17.171326Z",
     "start_time": "2024-10-06T07:35:17.153182Z"
    }
   },
   "outputs": [
    {
     "data": {
      "text/html": [
       "<div>\n",
       "<style scoped>\n",
       "    .dataframe tbody tr th:only-of-type {\n",
       "        vertical-align: middle;\n",
       "    }\n",
       "\n",
       "    .dataframe tbody tr th {\n",
       "        vertical-align: top;\n",
       "    }\n",
       "\n",
       "    .dataframe thead th {\n",
       "        text-align: right;\n",
       "    }\n",
       "</style>\n",
       "<table border=\"1\" class=\"dataframe\">\n",
       "  <thead>\n",
       "    <tr style=\"text-align: right;\">\n",
       "      <th></th>\n",
       "      <th>A</th>\n",
       "      <th>B</th>\n",
       "      <th>C</th>\n",
       "    </tr>\n",
       "  </thead>\n",
       "  <tbody>\n",
       "    <tr>\n",
       "      <th>0</th>\n",
       "      <td>1.0</td>\n",
       "      <td>5.0</td>\n",
       "      <td>cat</td>\n",
       "    </tr>\n",
       "    <tr>\n",
       "      <th>1</th>\n",
       "      <td>2.0</td>\n",
       "      <td>NaN</td>\n",
       "      <td>dog</td>\n",
       "    </tr>\n",
       "    <tr>\n",
       "      <th>2</th>\n",
       "      <td>NaN</td>\n",
       "      <td>NaN</td>\n",
       "      <td>cat</td>\n",
       "    </tr>\n",
       "    <tr>\n",
       "      <th>3</th>\n",
       "      <td>4.0</td>\n",
       "      <td>8.0</td>\n",
       "      <td>NaN</td>\n",
       "    </tr>\n",
       "    <tr>\n",
       "      <th>4</th>\n",
       "      <td>5.0</td>\n",
       "      <td>10.0</td>\n",
       "      <td>dog</td>\n",
       "    </tr>\n",
       "  </tbody>\n",
       "</table>\n",
       "</div>"
      ],
      "text/plain": [
       "     A     B    C\n",
       "0  1.0   5.0  cat\n",
       "1  2.0   NaN  dog\n",
       "2  NaN   NaN  cat\n",
       "3  4.0   8.0  NaN\n",
       "4  5.0  10.0  dog"
      ]
     },
     "execution_count": 11,
     "metadata": {},
     "output_type": "execute_result"
    }
   ],
   "source": [
    "df = pd.DataFrame(data)\n",
    "df"
   ]
  },
  {
   "cell_type": "code",
   "execution_count": 12,
   "id": "441cbdb2c0d7e2ed",
   "metadata": {
    "ExecuteTime": {
     "end_time": "2024-10-06T07:35:17.802079Z",
     "start_time": "2024-10-06T07:35:17.782642Z"
    }
   },
   "outputs": [
    {
     "name": "stdout",
     "output_type": "stream",
     "text": [
      "<class 'pandas.core.frame.DataFrame'>\n",
      "RangeIndex: 5 entries, 0 to 4\n",
      "Data columns (total 3 columns):\n",
      " #   Column  Non-Null Count  Dtype  \n",
      "---  ------  --------------  -----  \n",
      " 0   A       4 non-null      float64\n",
      " 1   B       3 non-null      float64\n",
      " 2   C       4 non-null      object \n",
      "dtypes: float64(2), object(1)\n",
      "memory usage: 252.0+ bytes\n"
     ]
    }
   ],
   "source": [
    "df.info()"
   ]
  },
  {
   "cell_type": "code",
   "execution_count": 13,
   "id": "eb4f7561cf3a9be6",
   "metadata": {
    "ExecuteTime": {
     "end_time": "2024-10-06T07:35:17.898907Z",
     "start_time": "2024-10-06T07:35:17.888883Z"
    }
   },
   "outputs": [
    {
     "data": {
      "text/html": [
       "<div>\n",
       "<style scoped>\n",
       "    .dataframe tbody tr th:only-of-type {\n",
       "        vertical-align: middle;\n",
       "    }\n",
       "\n",
       "    .dataframe tbody tr th {\n",
       "        vertical-align: top;\n",
       "    }\n",
       "\n",
       "    .dataframe thead th {\n",
       "        text-align: right;\n",
       "    }\n",
       "</style>\n",
       "<table border=\"1\" class=\"dataframe\">\n",
       "  <thead>\n",
       "    <tr style=\"text-align: right;\">\n",
       "      <th></th>\n",
       "      <th>A</th>\n",
       "      <th>B</th>\n",
       "      <th>C</th>\n",
       "    </tr>\n",
       "  </thead>\n",
       "  <tbody>\n",
       "    <tr>\n",
       "      <th>0</th>\n",
       "      <td>1.0</td>\n",
       "      <td>5.0</td>\n",
       "      <td>cat</td>\n",
       "    </tr>\n",
       "    <tr>\n",
       "      <th>1</th>\n",
       "      <td>2.0</td>\n",
       "      <td>0.0</td>\n",
       "      <td>dog</td>\n",
       "    </tr>\n",
       "    <tr>\n",
       "      <th>2</th>\n",
       "      <td>0.0</td>\n",
       "      <td>0.0</td>\n",
       "      <td>cat</td>\n",
       "    </tr>\n",
       "    <tr>\n",
       "      <th>3</th>\n",
       "      <td>4.0</td>\n",
       "      <td>8.0</td>\n",
       "      <td>0</td>\n",
       "    </tr>\n",
       "    <tr>\n",
       "      <th>4</th>\n",
       "      <td>5.0</td>\n",
       "      <td>10.0</td>\n",
       "      <td>dog</td>\n",
       "    </tr>\n",
       "  </tbody>\n",
       "</table>\n",
       "</div>"
      ],
      "text/plain": [
       "     A     B    C\n",
       "0  1.0   5.0  cat\n",
       "1  2.0   0.0  dog\n",
       "2  0.0   0.0  cat\n",
       "3  4.0   8.0    0\n",
       "4  5.0  10.0  dog"
      ]
     },
     "execution_count": 13,
     "metadata": {},
     "output_type": "execute_result"
    }
   ],
   "source": [
    "#Imputing with Constant Value\n",
    "df_filled_na = df.fillna(0)\n",
    "df_filled_na"
   ]
  },
  {
   "cell_type": "code",
   "execution_count": 14,
   "id": "309eb79997f01c2f",
   "metadata": {
    "ExecuteTime": {
     "end_time": "2024-10-06T07:35:18.059373Z",
     "start_time": "2024-10-06T07:35:18.046734Z"
    }
   },
   "outputs": [
    {
     "data": {
      "text/html": [
       "<div>\n",
       "<style scoped>\n",
       "    .dataframe tbody tr th:only-of-type {\n",
       "        vertical-align: middle;\n",
       "    }\n",
       "\n",
       "    .dataframe tbody tr th {\n",
       "        vertical-align: top;\n",
       "    }\n",
       "\n",
       "    .dataframe thead th {\n",
       "        text-align: right;\n",
       "    }\n",
       "</style>\n",
       "<table border=\"1\" class=\"dataframe\">\n",
       "  <thead>\n",
       "    <tr style=\"text-align: right;\">\n",
       "      <th></th>\n",
       "      <th>A</th>\n",
       "      <th>B</th>\n",
       "      <th>C</th>\n",
       "    </tr>\n",
       "  </thead>\n",
       "  <tbody>\n",
       "    <tr>\n",
       "      <th>0</th>\n",
       "      <td>1.0</td>\n",
       "      <td>5.000000</td>\n",
       "      <td>cat</td>\n",
       "    </tr>\n",
       "    <tr>\n",
       "      <th>1</th>\n",
       "      <td>2.0</td>\n",
       "      <td>7.666667</td>\n",
       "      <td>dog</td>\n",
       "    </tr>\n",
       "    <tr>\n",
       "      <th>2</th>\n",
       "      <td>3.0</td>\n",
       "      <td>7.666667</td>\n",
       "      <td>cat</td>\n",
       "    </tr>\n",
       "    <tr>\n",
       "      <th>3</th>\n",
       "      <td>4.0</td>\n",
       "      <td>8.000000</td>\n",
       "      <td>cat</td>\n",
       "    </tr>\n",
       "    <tr>\n",
       "      <th>4</th>\n",
       "      <td>5.0</td>\n",
       "      <td>10.000000</td>\n",
       "      <td>dog</td>\n",
       "    </tr>\n",
       "  </tbody>\n",
       "</table>\n",
       "</div>"
      ],
      "text/plain": [
       "     A          B    C\n",
       "0  1.0   5.000000  cat\n",
       "1  2.0   7.666667  dog\n",
       "2  3.0   7.666667  cat\n",
       "3  4.0   8.000000  cat\n",
       "4  5.0  10.000000  dog"
      ]
     },
     "execution_count": 14,
     "metadata": {},
     "output_type": "execute_result"
    }
   ],
   "source": [
    "#Imputing with mean in numerical values\n",
    "df['A'] = df['A'].fillna(df['A'].mean())\n",
    "df['B'] = df['B'].fillna(df['B'].mean())\n",
    "\n",
    "#Imputing with mode in categorical values\n",
    "\n",
    "df['C'] = df['C'].fillna(df['C'].mode()[0])\n",
    "df"
   ]
  },
  {
   "cell_type": "code",
   "execution_count": 15,
   "id": "e7b00c9b0c69061b",
   "metadata": {
    "ExecuteTime": {
     "end_time": "2024-10-06T07:35:19.307942Z",
     "start_time": "2024-10-06T07:35:18.137011Z"
    }
   },
   "outputs": [],
   "source": [
    "from sklearn.impute import SimpleImputer"
   ]
  },
  {
   "cell_type": "code",
   "execution_count": 16,
   "id": "f67547a4433725fb",
   "metadata": {
    "ExecuteTime": {
     "end_time": "2024-10-06T07:35:19.420883Z",
     "start_time": "2024-10-06T07:35:19.407058Z"
    }
   },
   "outputs": [
    {
     "name": "stdout",
     "output_type": "stream",
     "text": [
      "     A          B    C\n",
      "0  1.0   5.000000  cat\n",
      "1  2.0   7.666667  dog\n",
      "2  3.0   7.666667  cat\n",
      "3  4.0   8.000000  cat\n",
      "4  5.0  10.000000  dog\n",
      "     A          B    C\n",
      "0  1.0   5.000000  cat\n",
      "1  2.0   7.666667  dog\n",
      "2  3.0   7.666667  cat\n",
      "3  4.0   8.000000  cat\n",
      "4  5.0  10.000000  dog\n"
     ]
    }
   ],
   "source": [
    "#imputing numerical colomns with mean\n",
    "\n",
    "numerical_imputer = SimpleImputer(strategy='mean')\n",
    "df[['A' , 'B']] = numerical_imputer.fit_transform(df[['A' , 'B']])\n",
    "print(df)\n",
    "\n",
    "#=====================================================================\n",
    "\n",
    "#Imputing categorial colomns with most frequent(mode)\n",
    "\n",
    "categorical_imputer = SimpleImputer(strategy='most_frequent')\n",
    "df[['C']] = categorical_imputer.fit_transform(df[['C']])\n",
    "print(df)\n"
   ]
  },
  {
   "cell_type": "markdown",
   "id": "3f4b3b52f5a73176",
   "metadata": {},
   "source": [
    "# Normalization"
   ]
  },
  {
   "cell_type": "code",
   "execution_count": 17,
   "id": "cde35426bf67db95",
   "metadata": {
    "ExecuteTime": {
     "end_time": "2024-10-06T07:35:19.468642Z",
     "start_time": "2024-10-06T07:35:19.460055Z"
    }
   },
   "outputs": [],
   "source": [
    "from sklearn.preprocessing import MinMaxScaler"
   ]
  },
  {
   "cell_type": "code",
   "execution_count": 18,
   "id": "ba0e820b656fa663",
   "metadata": {
    "ExecuteTime": {
     "end_time": "2024-10-06T07:35:19.514362Z",
     "start_time": "2024-10-06T07:35:19.510155Z"
    }
   },
   "outputs": [
    {
     "name": "stdout",
     "output_type": "stream",
     "text": [
      "   Feature 1  Feature 2\n",
      "0         10        100\n",
      "1         20        200\n",
      "2         30        300\n",
      "3         40        400\n",
      "4         50        500\n"
     ]
    }
   ],
   "source": [
    "data = {'Feature 1' : [10,20,30,40,50] , \n",
    "        'Feature 2' : [100,200,300,400,500]}\n",
    "df = pd.DataFrame(data)\n",
    "print(df)"
   ]
  },
  {
   "cell_type": "code",
   "execution_count": 19,
   "id": "d69448aafbc832e5",
   "metadata": {
    "ExecuteTime": {
     "end_time": "2024-10-06T07:35:19.562830Z",
     "start_time": "2024-10-06T07:35:19.551208Z"
    }
   },
   "outputs": [
    {
     "name": "stdout",
     "output_type": "stream",
     "text": [
      "   Feature 1  Feature 2\n",
      "0       0.00       0.00\n",
      "1       0.25       0.25\n",
      "2       0.50       0.50\n",
      "3       0.75       0.75\n",
      "4       1.00       1.00\n"
     ]
    }
   ],
   "source": [
    "scaler = MinMaxScaler()\n",
    "\n",
    "df_normalized = pd.DataFrame(scaler.fit_transform(df) , columns = df.columns)\n",
    "print(df_normalized)"
   ]
  },
  {
   "cell_type": "markdown",
   "id": "8709e0fc706b8c1f",
   "metadata": {},
   "source": [
    "# Standardization"
   ]
  },
  {
   "cell_type": "code",
   "execution_count": 20,
   "id": "c5a61240f7c257a",
   "metadata": {
    "ExecuteTime": {
     "end_time": "2024-10-06T07:35:19.590557Z",
     "start_time": "2024-10-06T07:35:19.581349Z"
    }
   },
   "outputs": [
    {
     "name": "stdout",
     "output_type": "stream",
     "text": [
      "   Feature 1  Feature 2\n",
      "0  -1.414214  -1.414214\n",
      "1  -0.707107  -0.707107\n",
      "2   0.000000   0.000000\n",
      "3   0.707107   0.707107\n",
      "4   1.414214   1.414214\n"
     ]
    }
   ],
   "source": [
    "from sklearn.preprocessing import StandardScaler\n",
    "\n",
    "data = {'Feature 1' : [10,20,30,40,50] ,\n",
    "        'Feature 2' : [100,200,300,400,500]}\n",
    "\n",
    "df = pd.DataFrame(data)\n",
    "\n",
    "#Standardization\n",
    "\n",
    "scaler = StandardScaler()\n",
    "df_standard = pd.DataFrame(scaler.fit_transform(df) ,\n",
    "                           columns = df.columns)\n",
    "print(df_standard)"
   ]
  },
  {
   "cell_type": "code",
   "execution_count": null,
   "id": "de7fca179a1b1ba0",
   "metadata": {
    "ExecuteTime": {
     "end_time": "2024-10-06T07:35:19.632724Z",
     "start_time": "2024-10-06T07:35:19.621727Z"
    }
   },
   "outputs": [],
   "source": []
  }
 ],
 "metadata": {
  "kernelspec": {
   "display_name": "Python 3",
   "language": "python",
   "name": "python3"
  },
  "language_info": {
   "codemirror_mode": {
    "name": "ipython",
    "version": 3
   },
   "file_extension": ".py",
   "mimetype": "text/x-python",
   "name": "python",
   "nbconvert_exporter": "python",
   "pygments_lexer": "ipython3",
   "version": "3.12.7"
  }
 },
 "nbformat": 4,
 "nbformat_minor": 5
}
