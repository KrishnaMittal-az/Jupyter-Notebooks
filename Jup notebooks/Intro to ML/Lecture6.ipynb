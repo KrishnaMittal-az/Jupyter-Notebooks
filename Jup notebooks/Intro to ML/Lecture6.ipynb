{
 "cells": [
  {
   "cell_type": "code",
   "id": "initial_id",
   "metadata": {
    "collapsed": true,
    "ExecuteTime": {
     "end_time": "2024-09-24T05:56:49.089286Z",
     "start_time": "2024-09-24T05:56:47.078751Z"
    }
   },
   "source": [
    "import pandas as pd\n",
    "import numpy as np\n",
    "import sklearn"
   ],
   "outputs": [],
   "execution_count": 1
  },
  {
   "metadata": {},
   "cell_type": "markdown",
   "source": "Reading CSV file",
   "id": "83a11e8379969166"
  },
  {
   "metadata": {
    "ExecuteTime": {
     "end_time": "2024-09-24T06:07:17.110076Z",
     "start_time": "2024-09-24T06:07:17.099518Z"
    }
   },
   "cell_type": "code",
   "source": "data = pd.read_csv(r'D:\\PycharmProjects\\ML Algo\\Jup notebooks\\CSV\\synthetic_sports_team_fan_loyalty_data - synthetic_sports_team_fan_loyalty_data.csv')",
   "id": "21df1eac1f548421",
   "outputs": [],
   "execution_count": 10
  },
  {
   "metadata": {},
   "cell_type": "code",
   "outputs": [],
   "execution_count": null,
   "source": "",
   "id": "742b5cd8477022c0"
  }
 ],
 "metadata": {
  "kernelspec": {
   "display_name": "Python 3",
   "language": "python",
   "name": "python3"
  },
  "language_info": {
   "codemirror_mode": {
    "name": "ipython",
    "version": 2
   },
   "file_extension": ".py",
   "mimetype": "text/x-python",
   "name": "python",
   "nbconvert_exporter": "python",
   "pygments_lexer": "ipython2",
   "version": "2.7.6"
  }
 },
 "nbformat": 4,
 "nbformat_minor": 5
}
