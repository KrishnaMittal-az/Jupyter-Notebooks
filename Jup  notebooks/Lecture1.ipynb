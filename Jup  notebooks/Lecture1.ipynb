{
 "cells": [
  {
   "metadata": {
    "ExecuteTime": {
     "end_time": "2024-08-20T06:02:46.578761Z",
     "start_time": "2024-08-20T06:02:46.034170Z"
    }
   },
   "cell_type": "code",
   "source": [
    "import pandas as pd\n",
    "import numpy as np"
   ],
   "id": "9b8eb70376187226",
   "outputs": [],
   "execution_count": 1
  },
  {
   "metadata": {
    "ExecuteTime": {
     "end_time": "2024-08-20T06:02:46.621609Z",
     "start_time": "2024-08-20T06:02:46.613039Z"
    }
   },
   "cell_type": "code",
   "source": [
    "array = np.array([1,2,3,4])\n",
    "print(array)"
   ],
   "id": "a7b0abe8acb6009f",
   "outputs": [
    {
     "name": "stdout",
     "output_type": "stream",
     "text": [
      "[1 2 3 4]\n"
     ]
    }
   ],
   "execution_count": 2
  },
  {
   "metadata": {
    "ExecuteTime": {
     "end_time": "2024-08-20T06:02:46.646928Z",
     "start_time": "2024-08-20T06:02:46.637711Z"
    }
   },
   "cell_type": "code",
   "source": [
    "sereis = pd.Series(array)\n",
    "print(sereis)"
   ],
   "id": "1f0427443943c1fe",
   "outputs": [
    {
     "name": "stdout",
     "output_type": "stream",
     "text": [
      "0    1\n",
      "1    2\n",
      "2    3\n",
      "3    4\n",
      "dtype: int64\n"
     ]
    }
   ],
   "execution_count": 3
  },
  {
   "metadata": {
    "ExecuteTime": {
     "end_time": "2024-08-20T06:02:47.094823Z",
     "start_time": "2024-08-20T06:02:47.086034Z"
    }
   },
   "cell_type": "code",
   "source": "type(sereis)",
   "id": "36dc10ef79b6d38a",
   "outputs": [
    {
     "data": {
      "text/plain": [
       "pandas.core.series.Series"
      ]
     },
     "execution_count": 4,
     "metadata": {},
     "output_type": "execute_result"
    }
   ],
   "execution_count": 4
  },
  {
   "metadata": {
    "ExecuteTime": {
     "end_time": "2024-08-20T06:02:47.166927Z",
     "start_time": "2024-08-20T06:02:47.158642Z"
    }
   },
   "cell_type": "code",
   "source": [
    "sereis = pd.Series(array,index=[1,2,3,4])\n",
    "print(sereis)"
   ],
   "id": "f44e0cc771e940",
   "outputs": [
    {
     "name": "stdout",
     "output_type": "stream",
     "text": [
      "1    1\n",
      "2    2\n",
      "3    3\n",
      "4    4\n",
      "dtype: int64\n"
     ]
    }
   ],
   "execution_count": 5
  },
  {
   "metadata": {
    "ExecuteTime": {
     "end_time": "2024-08-20T06:02:47.202430Z",
     "start_time": "2024-08-20T06:02:47.190324Z"
    }
   },
   "cell_type": "code",
   "source": [
    "data = {\"Alex\" : 50 , \"Jack\" : 55 , \"David\" : 60}\n",
    "data\n"
   ],
   "id": "7d09bdb75cf2d849",
   "outputs": [
    {
     "data": {
      "text/plain": [
       "{'Alex': 50, 'Jack': 55, 'David': 60}"
      ]
     },
     "execution_count": 6,
     "metadata": {},
     "output_type": "execute_result"
    }
   ],
   "execution_count": 6
  },
  {
   "metadata": {
    "ExecuteTime": {
     "end_time": "2024-08-20T06:02:47.233957Z",
     "start_time": "2024-08-20T06:02:47.222292Z"
    }
   },
   "cell_type": "code",
   "source": [
    "s0 = pd.Series(data)\n",
    "print(s0)"
   ],
   "id": "32b0ef16fd958feb",
   "outputs": [
    {
     "name": "stdout",
     "output_type": "stream",
     "text": [
      "Alex     50\n",
      "Jack     55\n",
      "David    60\n",
      "dtype: int64\n"
     ]
    }
   ],
   "execution_count": 7
  },
  {
   "metadata": {
    "ExecuteTime": {
     "end_time": "2024-08-20T06:02:47.266700Z",
     "start_time": "2024-08-20T06:02:47.253750Z"
    }
   },
   "cell_type": "code",
   "source": [
    "# Scaler Values\n",
    "s1 = pd.Series(10,index = [1,2,3,4,5,6,7,8,9])\n",
    "print(s1)"
   ],
   "id": "10466ef46e2c691c",
   "outputs": [
    {
     "name": "stdout",
     "output_type": "stream",
     "text": [
      "1    10\n",
      "2    10\n",
      "3    10\n",
      "4    10\n",
      "5    10\n",
      "6    10\n",
      "7    10\n",
      "8    10\n",
      "9    10\n",
      "dtype: int64\n"
     ]
    }
   ],
   "execution_count": 8
  },
  {
   "metadata": {
    "ExecuteTime": {
     "end_time": "2024-08-20T06:02:47.322690Z",
     "start_time": "2024-08-20T06:02:47.316944Z"
    }
   },
   "cell_type": "code",
   "source": [
    "sereis = pd.Series(array,index=[1,2,3,4])\n",
    "print(sereis)"
   ],
   "id": "591b2819b2591c95",
   "outputs": [
    {
     "name": "stdout",
     "output_type": "stream",
     "text": [
      "1    1\n",
      "2    2\n",
      "3    3\n",
      "4    4\n",
      "dtype: int64\n"
     ]
    }
   ],
   "execution_count": 9
  },
  {
   "metadata": {
    "ExecuteTime": {
     "end_time": "2024-08-20T06:02:47.375195Z",
     "start_time": "2024-08-20T06:02:47.363978Z"
    }
   },
   "cell_type": "code",
   "source": "print(sereis[1])",
   "id": "1875c8258c0e84ae",
   "outputs": [
    {
     "name": "stdout",
     "output_type": "stream",
     "text": [
      "1\n"
     ]
    }
   ],
   "execution_count": 10
  },
  {
   "metadata": {
    "ExecuteTime": {
     "end_time": "2024-08-20T06:02:47.400689Z",
     "start_time": "2024-08-20T06:02:47.395885Z"
    }
   },
   "cell_type": "code",
   "source": "print(sereis[0:4])\n",
   "id": "2c58393882833358",
   "outputs": [
    {
     "name": "stdout",
     "output_type": "stream",
     "text": [
      "1    1\n",
      "2    2\n",
      "3    3\n",
      "4    4\n",
      "dtype: int64\n"
     ]
    }
   ],
   "execution_count": 11
  },
  {
   "metadata": {
    "ExecuteTime": {
     "end_time": "2024-08-20T06:02:47.450740Z",
     "start_time": "2024-08-20T06:02:47.442509Z"
    }
   },
   "cell_type": "code",
   "source": "sereis.index",
   "id": "3eebb99ca34c98ba",
   "outputs": [
    {
     "data": {
      "text/plain": [
       "Index([1, 2, 3, 4], dtype='int64')"
      ]
     },
     "execution_count": 12,
     "metadata": {},
     "output_type": "execute_result"
    }
   ],
   "execution_count": 12
  },
  {
   "metadata": {
    "ExecuteTime": {
     "end_time": "2024-08-20T06:02:47.484118Z",
     "start_time": "2024-08-20T06:02:47.473978Z"
    }
   },
   "cell_type": "code",
   "source": "sereis.values",
   "id": "9c6bbed87e7a94bd",
   "outputs": [
    {
     "data": {
      "text/plain": [
       "array([1, 2, 3, 4])"
      ]
     },
     "execution_count": 13,
     "metadata": {},
     "output_type": "execute_result"
    }
   ],
   "execution_count": 13
  },
  {
   "metadata": {
    "ExecuteTime": {
     "end_time": "2024-08-20T06:02:47.532684Z",
     "start_time": "2024-08-20T06:02:47.521276Z"
    }
   },
   "cell_type": "code",
   "source": [
    "# DataFrames\n",
    "\n",
    "Name = [\"dev\" , \"raj\" , \"sam\" , \"sara\"]\n",
    "Marks = [50,52,48,49]\n",
    "data1 = {\"Names\" : Name , \"Marks\" : Marks }\n",
    "print(data1)"
   ],
   "id": "f8bf58e8a42bc109",
   "outputs": [
    {
     "name": "stdout",
     "output_type": "stream",
     "text": [
      "{'Names': ['dev', 'raj', 'sam', 'sara'], 'Marks': [50, 52, 48, 49]}\n"
     ]
    }
   ],
   "execution_count": 14
  },
  {
   "metadata": {
    "ExecuteTime": {
     "end_time": "2024-08-20T06:02:47.583083Z",
     "start_time": "2024-08-20T06:02:47.569772Z"
    }
   },
   "cell_type": "code",
   "source": [
    "df = pd.DataFrame(data1)\n",
    "print(df)"
   ],
   "id": "5ad30c21b0e4aa90",
   "outputs": [
    {
     "name": "stdout",
     "output_type": "stream",
     "text": [
      "  Names  Marks\n",
      "0   dev     50\n",
      "1   raj     52\n",
      "2   sam     48\n",
      "3  sara     49\n"
     ]
    }
   ],
   "execution_count": 15
  },
  {
   "metadata": {
    "ExecuteTime": {
     "end_time": "2024-08-20T06:02:47.632553Z",
     "start_time": "2024-08-20T06:02:47.617378Z"
    }
   },
   "cell_type": "code",
   "source": [
    "df = pd.DataFrame(data1,index = [\"Rank1\" , \"Rank2\" , \"Rank3\" , \"Rank4\"])\n",
    "print(df)"
   ],
   "id": "20c9bd986f85e387",
   "outputs": [
    {
     "name": "stdout",
     "output_type": "stream",
     "text": [
      "      Names  Marks\n",
      "Rank1   dev     50\n",
      "Rank2   raj     52\n",
      "Rank3   sam     48\n",
      "Rank4  sara     49\n"
     ]
    }
   ],
   "execution_count": 16
  },
  {
   "metadata": {
    "ExecuteTime": {
     "end_time": "2024-08-20T06:02:47.665829Z",
     "start_time": "2024-08-20T06:02:47.648327Z"
    }
   },
   "cell_type": "code",
   "source": [
    "city =[\"Pune\" , \"Bangalore\" , \"Hyderabad\" , \"Delhi\"]\n",
    "df[\"City\"] = city\n",
    "print(df)"
   ],
   "id": "594c51cf79920bba",
   "outputs": [
    {
     "name": "stdout",
     "output_type": "stream",
     "text": [
      "      Names  Marks       City\n",
      "Rank1   dev     50       Pune\n",
      "Rank2   raj     52  Bangalore\n",
      "Rank3   sam     48  Hyderabad\n",
      "Rank4  sara     49      Delhi\n"
     ]
    }
   ],
   "execution_count": 17
  },
  {
   "metadata": {
    "ExecuteTime": {
     "end_time": "2024-08-20T06:03:09.902954Z",
     "start_time": "2024-08-20T06:03:09.747045Z"
    }
   },
   "cell_type": "code",
   "source": "ball = pd.read_csv(\"Ball_by_Ball.csv\")",
   "id": "b91f4b486854304c",
   "outputs": [],
   "execution_count": 18
  },
  {
   "metadata": {
    "ExecuteTime": {
     "end_time": "2024-08-20T06:03:20.457819Z",
     "start_time": "2024-08-20T06:03:20.411687Z"
    }
   },
   "cell_type": "code",
   "source": "ball",
   "id": "51960f33e12fa742",
   "outputs": [
    {
     "data": {
      "text/plain": [
       "        Match_Id  Innings_Id  Over_Id  Ball_Id  Team_Batting_Id  \\\n",
       "0         335987           1        1        1                1   \n",
       "1         335987           1        1        2                1   \n",
       "2         335987           1        1        3                1   \n",
       "3         335987           1        1        4                1   \n",
       "4         335987           1        1        5                1   \n",
       "...          ...         ...      ...      ...              ...   \n",
       "136585    981024           2       20        2                2   \n",
       "136586    981024           2       20        3                2   \n",
       "136587    981024           2       20        4                2   \n",
       "136588    981024           2       20        5                2   \n",
       "136589    981024           2       20        6                2   \n",
       "\n",
       "        Team_Bowling_Id  Striker_Id  Striker_Batting_Position  Non_Striker_Id  \\\n",
       "0                     2           1                         1               2   \n",
       "1                     2           2                         2               1   \n",
       "2                     2           2                         2               1   \n",
       "3                     2           2                         2               1   \n",
       "4                     2           2                         2               1   \n",
       "...                 ...         ...                       ...             ...   \n",
       "136585               11         369                         6             434   \n",
       "136586               11         369                         6             434   \n",
       "136587               11         140                         9             369   \n",
       "136588               11         369                         6             140   \n",
       "136589               11         140                         9             369   \n",
       "\n",
       "        Bowler_Id Batsman_Scored Extra_Type Extra_Runs Player_dissimal_Id  \\\n",
       "0              14              0    legbyes          1                      \n",
       "1              14              0                                            \n",
       "2              14              0      wides          1                      \n",
       "3              14              0                                            \n",
       "4              14              0                                            \n",
       "...           ...            ...        ...        ...                ...   \n",
       "136585        299              2                                            \n",
       "136586        299              0                                      434   \n",
       "136587        299              0    legbyes          1                      \n",
       "136588        299              1                                            \n",
       "136589        299              4                                            \n",
       "\n",
       "       Dissimal_Type Fielder_Id  \n",
       "0                                \n",
       "1                                \n",
       "2                                \n",
       "3                                \n",
       "4                                \n",
       "...              ...        ...  \n",
       "136585                           \n",
       "136586       run out        183  \n",
       "136587                           \n",
       "136588                           \n",
       "136589                           \n",
       "\n",
       "[136590 rows x 16 columns]"
      ],
      "text/html": [
       "<div>\n",
       "<style scoped>\n",
       "    .dataframe tbody tr th:only-of-type {\n",
       "        vertical-align: middle;\n",
       "    }\n",
       "\n",
       "    .dataframe tbody tr th {\n",
       "        vertical-align: top;\n",
       "    }\n",
       "\n",
       "    .dataframe thead th {\n",
       "        text-align: right;\n",
       "    }\n",
       "</style>\n",
       "<table border=\"1\" class=\"dataframe\">\n",
       "  <thead>\n",
       "    <tr style=\"text-align: right;\">\n",
       "      <th></th>\n",
       "      <th>Match_Id</th>\n",
       "      <th>Innings_Id</th>\n",
       "      <th>Over_Id</th>\n",
       "      <th>Ball_Id</th>\n",
       "      <th>Team_Batting_Id</th>\n",
       "      <th>Team_Bowling_Id</th>\n",
       "      <th>Striker_Id</th>\n",
       "      <th>Striker_Batting_Position</th>\n",
       "      <th>Non_Striker_Id</th>\n",
       "      <th>Bowler_Id</th>\n",
       "      <th>Batsman_Scored</th>\n",
       "      <th>Extra_Type</th>\n",
       "      <th>Extra_Runs</th>\n",
       "      <th>Player_dissimal_Id</th>\n",
       "      <th>Dissimal_Type</th>\n",
       "      <th>Fielder_Id</th>\n",
       "    </tr>\n",
       "  </thead>\n",
       "  <tbody>\n",
       "    <tr>\n",
       "      <th>0</th>\n",
       "      <td>335987</td>\n",
       "      <td>1</td>\n",
       "      <td>1</td>\n",
       "      <td>1</td>\n",
       "      <td>1</td>\n",
       "      <td>2</td>\n",
       "      <td>1</td>\n",
       "      <td>1</td>\n",
       "      <td>2</td>\n",
       "      <td>14</td>\n",
       "      <td>0</td>\n",
       "      <td>legbyes</td>\n",
       "      <td>1</td>\n",
       "      <td></td>\n",
       "      <td></td>\n",
       "      <td></td>\n",
       "    </tr>\n",
       "    <tr>\n",
       "      <th>1</th>\n",
       "      <td>335987</td>\n",
       "      <td>1</td>\n",
       "      <td>1</td>\n",
       "      <td>2</td>\n",
       "      <td>1</td>\n",
       "      <td>2</td>\n",
       "      <td>2</td>\n",
       "      <td>2</td>\n",
       "      <td>1</td>\n",
       "      <td>14</td>\n",
       "      <td>0</td>\n",
       "      <td></td>\n",
       "      <td></td>\n",
       "      <td></td>\n",
       "      <td></td>\n",
       "      <td></td>\n",
       "    </tr>\n",
       "    <tr>\n",
       "      <th>2</th>\n",
       "      <td>335987</td>\n",
       "      <td>1</td>\n",
       "      <td>1</td>\n",
       "      <td>3</td>\n",
       "      <td>1</td>\n",
       "      <td>2</td>\n",
       "      <td>2</td>\n",
       "      <td>2</td>\n",
       "      <td>1</td>\n",
       "      <td>14</td>\n",
       "      <td>0</td>\n",
       "      <td>wides</td>\n",
       "      <td>1</td>\n",
       "      <td></td>\n",
       "      <td></td>\n",
       "      <td></td>\n",
       "    </tr>\n",
       "    <tr>\n",
       "      <th>3</th>\n",
       "      <td>335987</td>\n",
       "      <td>1</td>\n",
       "      <td>1</td>\n",
       "      <td>4</td>\n",
       "      <td>1</td>\n",
       "      <td>2</td>\n",
       "      <td>2</td>\n",
       "      <td>2</td>\n",
       "      <td>1</td>\n",
       "      <td>14</td>\n",
       "      <td>0</td>\n",
       "      <td></td>\n",
       "      <td></td>\n",
       "      <td></td>\n",
       "      <td></td>\n",
       "      <td></td>\n",
       "    </tr>\n",
       "    <tr>\n",
       "      <th>4</th>\n",
       "      <td>335987</td>\n",
       "      <td>1</td>\n",
       "      <td>1</td>\n",
       "      <td>5</td>\n",
       "      <td>1</td>\n",
       "      <td>2</td>\n",
       "      <td>2</td>\n",
       "      <td>2</td>\n",
       "      <td>1</td>\n",
       "      <td>14</td>\n",
       "      <td>0</td>\n",
       "      <td></td>\n",
       "      <td></td>\n",
       "      <td></td>\n",
       "      <td></td>\n",
       "      <td></td>\n",
       "    </tr>\n",
       "    <tr>\n",
       "      <th>...</th>\n",
       "      <td>...</td>\n",
       "      <td>...</td>\n",
       "      <td>...</td>\n",
       "      <td>...</td>\n",
       "      <td>...</td>\n",
       "      <td>...</td>\n",
       "      <td>...</td>\n",
       "      <td>...</td>\n",
       "      <td>...</td>\n",
       "      <td>...</td>\n",
       "      <td>...</td>\n",
       "      <td>...</td>\n",
       "      <td>...</td>\n",
       "      <td>...</td>\n",
       "      <td>...</td>\n",
       "      <td>...</td>\n",
       "    </tr>\n",
       "    <tr>\n",
       "      <th>136585</th>\n",
       "      <td>981024</td>\n",
       "      <td>2</td>\n",
       "      <td>20</td>\n",
       "      <td>2</td>\n",
       "      <td>2</td>\n",
       "      <td>11</td>\n",
       "      <td>369</td>\n",
       "      <td>6</td>\n",
       "      <td>434</td>\n",
       "      <td>299</td>\n",
       "      <td>2</td>\n",
       "      <td></td>\n",
       "      <td></td>\n",
       "      <td></td>\n",
       "      <td></td>\n",
       "      <td></td>\n",
       "    </tr>\n",
       "    <tr>\n",
       "      <th>136586</th>\n",
       "      <td>981024</td>\n",
       "      <td>2</td>\n",
       "      <td>20</td>\n",
       "      <td>3</td>\n",
       "      <td>2</td>\n",
       "      <td>11</td>\n",
       "      <td>369</td>\n",
       "      <td>6</td>\n",
       "      <td>434</td>\n",
       "      <td>299</td>\n",
       "      <td>0</td>\n",
       "      <td></td>\n",
       "      <td></td>\n",
       "      <td>434</td>\n",
       "      <td>run out</td>\n",
       "      <td>183</td>\n",
       "    </tr>\n",
       "    <tr>\n",
       "      <th>136587</th>\n",
       "      <td>981024</td>\n",
       "      <td>2</td>\n",
       "      <td>20</td>\n",
       "      <td>4</td>\n",
       "      <td>2</td>\n",
       "      <td>11</td>\n",
       "      <td>140</td>\n",
       "      <td>9</td>\n",
       "      <td>369</td>\n",
       "      <td>299</td>\n",
       "      <td>0</td>\n",
       "      <td>legbyes</td>\n",
       "      <td>1</td>\n",
       "      <td></td>\n",
       "      <td></td>\n",
       "      <td></td>\n",
       "    </tr>\n",
       "    <tr>\n",
       "      <th>136588</th>\n",
       "      <td>981024</td>\n",
       "      <td>2</td>\n",
       "      <td>20</td>\n",
       "      <td>5</td>\n",
       "      <td>2</td>\n",
       "      <td>11</td>\n",
       "      <td>369</td>\n",
       "      <td>6</td>\n",
       "      <td>140</td>\n",
       "      <td>299</td>\n",
       "      <td>1</td>\n",
       "      <td></td>\n",
       "      <td></td>\n",
       "      <td></td>\n",
       "      <td></td>\n",
       "      <td></td>\n",
       "    </tr>\n",
       "    <tr>\n",
       "      <th>136589</th>\n",
       "      <td>981024</td>\n",
       "      <td>2</td>\n",
       "      <td>20</td>\n",
       "      <td>6</td>\n",
       "      <td>2</td>\n",
       "      <td>11</td>\n",
       "      <td>140</td>\n",
       "      <td>9</td>\n",
       "      <td>369</td>\n",
       "      <td>299</td>\n",
       "      <td>4</td>\n",
       "      <td></td>\n",
       "      <td></td>\n",
       "      <td></td>\n",
       "      <td></td>\n",
       "      <td></td>\n",
       "    </tr>\n",
       "  </tbody>\n",
       "</table>\n",
       "<p>136590 rows × 16 columns</p>\n",
       "</div>"
      ]
     },
     "execution_count": 19,
     "metadata": {},
     "output_type": "execute_result"
    }
   ],
   "execution_count": 19
  },
  {
   "metadata": {
    "ExecuteTime": {
     "end_time": "2024-08-20T06:04:28.383069Z",
     "start_time": "2024-08-20T06:04:28.378394Z"
    }
   },
   "cell_type": "code",
   "source": "ball.shape",
   "id": "d784caf76a8c826a",
   "outputs": [
    {
     "data": {
      "text/plain": [
       "(136590, 16)"
      ]
     },
     "execution_count": 20,
     "metadata": {},
     "output_type": "execute_result"
    }
   ],
   "execution_count": 20
  },
  {
   "metadata": {
    "ExecuteTime": {
     "end_time": "2024-08-20T06:06:17.899472Z",
     "start_time": "2024-08-20T06:06:17.886258Z"
    }
   },
   "cell_type": "code",
   "source": "ball.head(10)",
   "id": "f2a8d786471ed876",
   "outputs": [
    {
     "data": {
      "text/plain": [
       "   Match_Id  Innings_Id  Over_Id  Ball_Id  Team_Batting_Id  Team_Bowling_Id  \\\n",
       "0    335987           1        1        1                1                2   \n",
       "1    335987           1        1        2                1                2   \n",
       "2    335987           1        1        3                1                2   \n",
       "3    335987           1        1        4                1                2   \n",
       "4    335987           1        1        5                1                2   \n",
       "5    335987           1        1        6                1                2   \n",
       "6    335987           1        1        7                1                2   \n",
       "7    335987           1        2        1                1                2   \n",
       "8    335987           1        2        2                1                2   \n",
       "9    335987           1        2        3                1                2   \n",
       "\n",
       "   Striker_Id  Striker_Batting_Position  Non_Striker_Id  Bowler_Id  \\\n",
       "0           1                         1               2         14   \n",
       "1           2                         2               1         14   \n",
       "2           2                         2               1         14   \n",
       "3           2                         2               1         14   \n",
       "4           2                         2               1         14   \n",
       "5           2                         2               1         14   \n",
       "6           2                         2               1         14   \n",
       "7           2                         2               1         15   \n",
       "8           2                         2               1         15   \n",
       "9           2                         2               1         15   \n",
       "\n",
       "  Batsman_Scored Extra_Type Extra_Runs Player_dissimal_Id Dissimal_Type  \\\n",
       "0              0    legbyes          1                                    \n",
       "1              0                                                          \n",
       "2              0      wides          1                                    \n",
       "3              0                                                          \n",
       "4              0                                                          \n",
       "5              0                                                          \n",
       "6              0    legbyes          1                                    \n",
       "7              0                                                          \n",
       "8              4                                                          \n",
       "9              4                                                          \n",
       "\n",
       "  Fielder_Id  \n",
       "0             \n",
       "1             \n",
       "2             \n",
       "3             \n",
       "4             \n",
       "5             \n",
       "6             \n",
       "7             \n",
       "8             \n",
       "9             "
      ],
      "text/html": [
       "<div>\n",
       "<style scoped>\n",
       "    .dataframe tbody tr th:only-of-type {\n",
       "        vertical-align: middle;\n",
       "    }\n",
       "\n",
       "    .dataframe tbody tr th {\n",
       "        vertical-align: top;\n",
       "    }\n",
       "\n",
       "    .dataframe thead th {\n",
       "        text-align: right;\n",
       "    }\n",
       "</style>\n",
       "<table border=\"1\" class=\"dataframe\">\n",
       "  <thead>\n",
       "    <tr style=\"text-align: right;\">\n",
       "      <th></th>\n",
       "      <th>Match_Id</th>\n",
       "      <th>Innings_Id</th>\n",
       "      <th>Over_Id</th>\n",
       "      <th>Ball_Id</th>\n",
       "      <th>Team_Batting_Id</th>\n",
       "      <th>Team_Bowling_Id</th>\n",
       "      <th>Striker_Id</th>\n",
       "      <th>Striker_Batting_Position</th>\n",
       "      <th>Non_Striker_Id</th>\n",
       "      <th>Bowler_Id</th>\n",
       "      <th>Batsman_Scored</th>\n",
       "      <th>Extra_Type</th>\n",
       "      <th>Extra_Runs</th>\n",
       "      <th>Player_dissimal_Id</th>\n",
       "      <th>Dissimal_Type</th>\n",
       "      <th>Fielder_Id</th>\n",
       "    </tr>\n",
       "  </thead>\n",
       "  <tbody>\n",
       "    <tr>\n",
       "      <th>0</th>\n",
       "      <td>335987</td>\n",
       "      <td>1</td>\n",
       "      <td>1</td>\n",
       "      <td>1</td>\n",
       "      <td>1</td>\n",
       "      <td>2</td>\n",
       "      <td>1</td>\n",
       "      <td>1</td>\n",
       "      <td>2</td>\n",
       "      <td>14</td>\n",
       "      <td>0</td>\n",
       "      <td>legbyes</td>\n",
       "      <td>1</td>\n",
       "      <td></td>\n",
       "      <td></td>\n",
       "      <td></td>\n",
       "    </tr>\n",
       "    <tr>\n",
       "      <th>1</th>\n",
       "      <td>335987</td>\n",
       "      <td>1</td>\n",
       "      <td>1</td>\n",
       "      <td>2</td>\n",
       "      <td>1</td>\n",
       "      <td>2</td>\n",
       "      <td>2</td>\n",
       "      <td>2</td>\n",
       "      <td>1</td>\n",
       "      <td>14</td>\n",
       "      <td>0</td>\n",
       "      <td></td>\n",
       "      <td></td>\n",
       "      <td></td>\n",
       "      <td></td>\n",
       "      <td></td>\n",
       "    </tr>\n",
       "    <tr>\n",
       "      <th>2</th>\n",
       "      <td>335987</td>\n",
       "      <td>1</td>\n",
       "      <td>1</td>\n",
       "      <td>3</td>\n",
       "      <td>1</td>\n",
       "      <td>2</td>\n",
       "      <td>2</td>\n",
       "      <td>2</td>\n",
       "      <td>1</td>\n",
       "      <td>14</td>\n",
       "      <td>0</td>\n",
       "      <td>wides</td>\n",
       "      <td>1</td>\n",
       "      <td></td>\n",
       "      <td></td>\n",
       "      <td></td>\n",
       "    </tr>\n",
       "    <tr>\n",
       "      <th>3</th>\n",
       "      <td>335987</td>\n",
       "      <td>1</td>\n",
       "      <td>1</td>\n",
       "      <td>4</td>\n",
       "      <td>1</td>\n",
       "      <td>2</td>\n",
       "      <td>2</td>\n",
       "      <td>2</td>\n",
       "      <td>1</td>\n",
       "      <td>14</td>\n",
       "      <td>0</td>\n",
       "      <td></td>\n",
       "      <td></td>\n",
       "      <td></td>\n",
       "      <td></td>\n",
       "      <td></td>\n",
       "    </tr>\n",
       "    <tr>\n",
       "      <th>4</th>\n",
       "      <td>335987</td>\n",
       "      <td>1</td>\n",
       "      <td>1</td>\n",
       "      <td>5</td>\n",
       "      <td>1</td>\n",
       "      <td>2</td>\n",
       "      <td>2</td>\n",
       "      <td>2</td>\n",
       "      <td>1</td>\n",
       "      <td>14</td>\n",
       "      <td>0</td>\n",
       "      <td></td>\n",
       "      <td></td>\n",
       "      <td></td>\n",
       "      <td></td>\n",
       "      <td></td>\n",
       "    </tr>\n",
       "    <tr>\n",
       "      <th>5</th>\n",
       "      <td>335987</td>\n",
       "      <td>1</td>\n",
       "      <td>1</td>\n",
       "      <td>6</td>\n",
       "      <td>1</td>\n",
       "      <td>2</td>\n",
       "      <td>2</td>\n",
       "      <td>2</td>\n",
       "      <td>1</td>\n",
       "      <td>14</td>\n",
       "      <td>0</td>\n",
       "      <td></td>\n",
       "      <td></td>\n",
       "      <td></td>\n",
       "      <td></td>\n",
       "      <td></td>\n",
       "    </tr>\n",
       "    <tr>\n",
       "      <th>6</th>\n",
       "      <td>335987</td>\n",
       "      <td>1</td>\n",
       "      <td>1</td>\n",
       "      <td>7</td>\n",
       "      <td>1</td>\n",
       "      <td>2</td>\n",
       "      <td>2</td>\n",
       "      <td>2</td>\n",
       "      <td>1</td>\n",
       "      <td>14</td>\n",
       "      <td>0</td>\n",
       "      <td>legbyes</td>\n",
       "      <td>1</td>\n",
       "      <td></td>\n",
       "      <td></td>\n",
       "      <td></td>\n",
       "    </tr>\n",
       "    <tr>\n",
       "      <th>7</th>\n",
       "      <td>335987</td>\n",
       "      <td>1</td>\n",
       "      <td>2</td>\n",
       "      <td>1</td>\n",
       "      <td>1</td>\n",
       "      <td>2</td>\n",
       "      <td>2</td>\n",
       "      <td>2</td>\n",
       "      <td>1</td>\n",
       "      <td>15</td>\n",
       "      <td>0</td>\n",
       "      <td></td>\n",
       "      <td></td>\n",
       "      <td></td>\n",
       "      <td></td>\n",
       "      <td></td>\n",
       "    </tr>\n",
       "    <tr>\n",
       "      <th>8</th>\n",
       "      <td>335987</td>\n",
       "      <td>1</td>\n",
       "      <td>2</td>\n",
       "      <td>2</td>\n",
       "      <td>1</td>\n",
       "      <td>2</td>\n",
       "      <td>2</td>\n",
       "      <td>2</td>\n",
       "      <td>1</td>\n",
       "      <td>15</td>\n",
       "      <td>4</td>\n",
       "      <td></td>\n",
       "      <td></td>\n",
       "      <td></td>\n",
       "      <td></td>\n",
       "      <td></td>\n",
       "    </tr>\n",
       "    <tr>\n",
       "      <th>9</th>\n",
       "      <td>335987</td>\n",
       "      <td>1</td>\n",
       "      <td>2</td>\n",
       "      <td>3</td>\n",
       "      <td>1</td>\n",
       "      <td>2</td>\n",
       "      <td>2</td>\n",
       "      <td>2</td>\n",
       "      <td>1</td>\n",
       "      <td>15</td>\n",
       "      <td>4</td>\n",
       "      <td></td>\n",
       "      <td></td>\n",
       "      <td></td>\n",
       "      <td></td>\n",
       "      <td></td>\n",
       "    </tr>\n",
       "  </tbody>\n",
       "</table>\n",
       "</div>"
      ]
     },
     "execution_count": 22,
     "metadata": {},
     "output_type": "execute_result"
    }
   ],
   "execution_count": 22
  },
  {
   "metadata": {
    "ExecuteTime": {
     "end_time": "2024-08-20T06:07:54.615062Z",
     "start_time": "2024-08-20T06:07:54.604071Z"
    }
   },
   "cell_type": "code",
   "source": "ball.tail(10)",
   "id": "83b202b447967fce",
   "outputs": [
    {
     "data": {
      "text/plain": [
       "        Match_Id  Innings_Id  Over_Id  Ball_Id  Team_Batting_Id  \\\n",
       "136580    981024           2       19        3                2   \n",
       "136581    981024           2       19        4                2   \n",
       "136582    981024           2       19        5                2   \n",
       "136583    981024           2       19        6                2   \n",
       "136584    981024           2       20        1                2   \n",
       "136585    981024           2       20        2                2   \n",
       "136586    981024           2       20        3                2   \n",
       "136587    981024           2       20        4                2   \n",
       "136588    981024           2       20        5                2   \n",
       "136589    981024           2       20        6                2   \n",
       "\n",
       "        Team_Bowling_Id  Striker_Id  Striker_Batting_Position  Non_Striker_Id  \\\n",
       "136580               11         434                         8             369   \n",
       "136581               11         434                         8             369   \n",
       "136582               11         369                         6             434   \n",
       "136583               11         369                         6             434   \n",
       "136584               11         434                         8             369   \n",
       "136585               11         369                         6             434   \n",
       "136586               11         369                         6             434   \n",
       "136587               11         140                         9             369   \n",
       "136588               11         369                         6             140   \n",
       "136589               11         140                         9             369   \n",
       "\n",
       "        Bowler_Id Batsman_Scored Extra_Type Extra_Runs Player_dissimal_Id  \\\n",
       "136580        460              0                                            \n",
       "136581        460              0    legbyes          1                      \n",
       "136582        460              2                                            \n",
       "136583        460              6                                            \n",
       "136584        299              1                                            \n",
       "136585        299              2                                            \n",
       "136586        299              0                                      434   \n",
       "136587        299              0    legbyes          1                      \n",
       "136588        299              1                                            \n",
       "136589        299              4                                            \n",
       "\n",
       "       Dissimal_Type Fielder_Id  \n",
       "136580                           \n",
       "136581                           \n",
       "136582                           \n",
       "136583                           \n",
       "136584                           \n",
       "136585                           \n",
       "136586       run out        183  \n",
       "136587                           \n",
       "136588                           \n",
       "136589                           "
      ],
      "text/html": [
       "<div>\n",
       "<style scoped>\n",
       "    .dataframe tbody tr th:only-of-type {\n",
       "        vertical-align: middle;\n",
       "    }\n",
       "\n",
       "    .dataframe tbody tr th {\n",
       "        vertical-align: top;\n",
       "    }\n",
       "\n",
       "    .dataframe thead th {\n",
       "        text-align: right;\n",
       "    }\n",
       "</style>\n",
       "<table border=\"1\" class=\"dataframe\">\n",
       "  <thead>\n",
       "    <tr style=\"text-align: right;\">\n",
       "      <th></th>\n",
       "      <th>Match_Id</th>\n",
       "      <th>Innings_Id</th>\n",
       "      <th>Over_Id</th>\n",
       "      <th>Ball_Id</th>\n",
       "      <th>Team_Batting_Id</th>\n",
       "      <th>Team_Bowling_Id</th>\n",
       "      <th>Striker_Id</th>\n",
       "      <th>Striker_Batting_Position</th>\n",
       "      <th>Non_Striker_Id</th>\n",
       "      <th>Bowler_Id</th>\n",
       "      <th>Batsman_Scored</th>\n",
       "      <th>Extra_Type</th>\n",
       "      <th>Extra_Runs</th>\n",
       "      <th>Player_dissimal_Id</th>\n",
       "      <th>Dissimal_Type</th>\n",
       "      <th>Fielder_Id</th>\n",
       "    </tr>\n",
       "  </thead>\n",
       "  <tbody>\n",
       "    <tr>\n",
       "      <th>136580</th>\n",
       "      <td>981024</td>\n",
       "      <td>2</td>\n",
       "      <td>19</td>\n",
       "      <td>3</td>\n",
       "      <td>2</td>\n",
       "      <td>11</td>\n",
       "      <td>434</td>\n",
       "      <td>8</td>\n",
       "      <td>369</td>\n",
       "      <td>460</td>\n",
       "      <td>0</td>\n",
       "      <td></td>\n",
       "      <td></td>\n",
       "      <td></td>\n",
       "      <td></td>\n",
       "      <td></td>\n",
       "    </tr>\n",
       "    <tr>\n",
       "      <th>136581</th>\n",
       "      <td>981024</td>\n",
       "      <td>2</td>\n",
       "      <td>19</td>\n",
       "      <td>4</td>\n",
       "      <td>2</td>\n",
       "      <td>11</td>\n",
       "      <td>434</td>\n",
       "      <td>8</td>\n",
       "      <td>369</td>\n",
       "      <td>460</td>\n",
       "      <td>0</td>\n",
       "      <td>legbyes</td>\n",
       "      <td>1</td>\n",
       "      <td></td>\n",
       "      <td></td>\n",
       "      <td></td>\n",
       "    </tr>\n",
       "    <tr>\n",
       "      <th>136582</th>\n",
       "      <td>981024</td>\n",
       "      <td>2</td>\n",
       "      <td>19</td>\n",
       "      <td>5</td>\n",
       "      <td>2</td>\n",
       "      <td>11</td>\n",
       "      <td>369</td>\n",
       "      <td>6</td>\n",
       "      <td>434</td>\n",
       "      <td>460</td>\n",
       "      <td>2</td>\n",
       "      <td></td>\n",
       "      <td></td>\n",
       "      <td></td>\n",
       "      <td></td>\n",
       "      <td></td>\n",
       "    </tr>\n",
       "    <tr>\n",
       "      <th>136583</th>\n",
       "      <td>981024</td>\n",
       "      <td>2</td>\n",
       "      <td>19</td>\n",
       "      <td>6</td>\n",
       "      <td>2</td>\n",
       "      <td>11</td>\n",
       "      <td>369</td>\n",
       "      <td>6</td>\n",
       "      <td>434</td>\n",
       "      <td>460</td>\n",
       "      <td>6</td>\n",
       "      <td></td>\n",
       "      <td></td>\n",
       "      <td></td>\n",
       "      <td></td>\n",
       "      <td></td>\n",
       "    </tr>\n",
       "    <tr>\n",
       "      <th>136584</th>\n",
       "      <td>981024</td>\n",
       "      <td>2</td>\n",
       "      <td>20</td>\n",
       "      <td>1</td>\n",
       "      <td>2</td>\n",
       "      <td>11</td>\n",
       "      <td>434</td>\n",
       "      <td>8</td>\n",
       "      <td>369</td>\n",
       "      <td>299</td>\n",
       "      <td>1</td>\n",
       "      <td></td>\n",
       "      <td></td>\n",
       "      <td></td>\n",
       "      <td></td>\n",
       "      <td></td>\n",
       "    </tr>\n",
       "    <tr>\n",
       "      <th>136585</th>\n",
       "      <td>981024</td>\n",
       "      <td>2</td>\n",
       "      <td>20</td>\n",
       "      <td>2</td>\n",
       "      <td>2</td>\n",
       "      <td>11</td>\n",
       "      <td>369</td>\n",
       "      <td>6</td>\n",
       "      <td>434</td>\n",
       "      <td>299</td>\n",
       "      <td>2</td>\n",
       "      <td></td>\n",
       "      <td></td>\n",
       "      <td></td>\n",
       "      <td></td>\n",
       "      <td></td>\n",
       "    </tr>\n",
       "    <tr>\n",
       "      <th>136586</th>\n",
       "      <td>981024</td>\n",
       "      <td>2</td>\n",
       "      <td>20</td>\n",
       "      <td>3</td>\n",
       "      <td>2</td>\n",
       "      <td>11</td>\n",
       "      <td>369</td>\n",
       "      <td>6</td>\n",
       "      <td>434</td>\n",
       "      <td>299</td>\n",
       "      <td>0</td>\n",
       "      <td></td>\n",
       "      <td></td>\n",
       "      <td>434</td>\n",
       "      <td>run out</td>\n",
       "      <td>183</td>\n",
       "    </tr>\n",
       "    <tr>\n",
       "      <th>136587</th>\n",
       "      <td>981024</td>\n",
       "      <td>2</td>\n",
       "      <td>20</td>\n",
       "      <td>4</td>\n",
       "      <td>2</td>\n",
       "      <td>11</td>\n",
       "      <td>140</td>\n",
       "      <td>9</td>\n",
       "      <td>369</td>\n",
       "      <td>299</td>\n",
       "      <td>0</td>\n",
       "      <td>legbyes</td>\n",
       "      <td>1</td>\n",
       "      <td></td>\n",
       "      <td></td>\n",
       "      <td></td>\n",
       "    </tr>\n",
       "    <tr>\n",
       "      <th>136588</th>\n",
       "      <td>981024</td>\n",
       "      <td>2</td>\n",
       "      <td>20</td>\n",
       "      <td>5</td>\n",
       "      <td>2</td>\n",
       "      <td>11</td>\n",
       "      <td>369</td>\n",
       "      <td>6</td>\n",
       "      <td>140</td>\n",
       "      <td>299</td>\n",
       "      <td>1</td>\n",
       "      <td></td>\n",
       "      <td></td>\n",
       "      <td></td>\n",
       "      <td></td>\n",
       "      <td></td>\n",
       "    </tr>\n",
       "    <tr>\n",
       "      <th>136589</th>\n",
       "      <td>981024</td>\n",
       "      <td>2</td>\n",
       "      <td>20</td>\n",
       "      <td>6</td>\n",
       "      <td>2</td>\n",
       "      <td>11</td>\n",
       "      <td>140</td>\n",
       "      <td>9</td>\n",
       "      <td>369</td>\n",
       "      <td>299</td>\n",
       "      <td>4</td>\n",
       "      <td></td>\n",
       "      <td></td>\n",
       "      <td></td>\n",
       "      <td></td>\n",
       "      <td></td>\n",
       "    </tr>\n",
       "  </tbody>\n",
       "</table>\n",
       "</div>"
      ]
     },
     "execution_count": 23,
     "metadata": {},
     "output_type": "execute_result"
    }
   ],
   "execution_count": 23
  },
  {
   "metadata": {
    "ExecuteTime": {
     "end_time": "2024-08-20T06:10:07.107816Z",
     "start_time": "2024-08-20T06:10:07.085778Z"
    }
   },
   "cell_type": "code",
   "source": "ball[[\"Match_Id\" , \"Innings_Id\"]]",
   "id": "3dcd1dea693d2525",
   "outputs": [
    {
     "data": {
      "text/plain": [
       "        Match_Id  Innings_Id\n",
       "0         335987           1\n",
       "1         335987           1\n",
       "2         335987           1\n",
       "3         335987           1\n",
       "4         335987           1\n",
       "...          ...         ...\n",
       "136585    981024           2\n",
       "136586    981024           2\n",
       "136587    981024           2\n",
       "136588    981024           2\n",
       "136589    981024           2\n",
       "\n",
       "[136590 rows x 2 columns]"
      ],
      "text/html": [
       "<div>\n",
       "<style scoped>\n",
       "    .dataframe tbody tr th:only-of-type {\n",
       "        vertical-align: middle;\n",
       "    }\n",
       "\n",
       "    .dataframe tbody tr th {\n",
       "        vertical-align: top;\n",
       "    }\n",
       "\n",
       "    .dataframe thead th {\n",
       "        text-align: right;\n",
       "    }\n",
       "</style>\n",
       "<table border=\"1\" class=\"dataframe\">\n",
       "  <thead>\n",
       "    <tr style=\"text-align: right;\">\n",
       "      <th></th>\n",
       "      <th>Match_Id</th>\n",
       "      <th>Innings_Id</th>\n",
       "    </tr>\n",
       "  </thead>\n",
       "  <tbody>\n",
       "    <tr>\n",
       "      <th>0</th>\n",
       "      <td>335987</td>\n",
       "      <td>1</td>\n",
       "    </tr>\n",
       "    <tr>\n",
       "      <th>1</th>\n",
       "      <td>335987</td>\n",
       "      <td>1</td>\n",
       "    </tr>\n",
       "    <tr>\n",
       "      <th>2</th>\n",
       "      <td>335987</td>\n",
       "      <td>1</td>\n",
       "    </tr>\n",
       "    <tr>\n",
       "      <th>3</th>\n",
       "      <td>335987</td>\n",
       "      <td>1</td>\n",
       "    </tr>\n",
       "    <tr>\n",
       "      <th>4</th>\n",
       "      <td>335987</td>\n",
       "      <td>1</td>\n",
       "    </tr>\n",
       "    <tr>\n",
       "      <th>...</th>\n",
       "      <td>...</td>\n",
       "      <td>...</td>\n",
       "    </tr>\n",
       "    <tr>\n",
       "      <th>136585</th>\n",
       "      <td>981024</td>\n",
       "      <td>2</td>\n",
       "    </tr>\n",
       "    <tr>\n",
       "      <th>136586</th>\n",
       "      <td>981024</td>\n",
       "      <td>2</td>\n",
       "    </tr>\n",
       "    <tr>\n",
       "      <th>136587</th>\n",
       "      <td>981024</td>\n",
       "      <td>2</td>\n",
       "    </tr>\n",
       "    <tr>\n",
       "      <th>136588</th>\n",
       "      <td>981024</td>\n",
       "      <td>2</td>\n",
       "    </tr>\n",
       "    <tr>\n",
       "      <th>136589</th>\n",
       "      <td>981024</td>\n",
       "      <td>2</td>\n",
       "    </tr>\n",
       "  </tbody>\n",
       "</table>\n",
       "<p>136590 rows × 2 columns</p>\n",
       "</div>"
      ]
     },
     "execution_count": 26,
     "metadata": {},
     "output_type": "execute_result"
    }
   ],
   "execution_count": 26
  },
  {
   "metadata": {},
   "cell_type": "code",
   "outputs": [],
   "execution_count": null,
   "source": "",
   "id": "fd1425e5804f1106"
  }
 ],
 "metadata": {
  "kernelspec": {
   "display_name": "Python 3",
   "language": "python",
   "name": "python3"
  },
  "language_info": {
   "codemirror_mode": {
    "name": "ipython",
    "version": 2
   },
   "file_extension": ".py",
   "mimetype": "text/x-python",
   "name": "python",
   "nbconvert_exporter": "python",
   "pygments_lexer": "ipython2",
   "version": "2.7.6"
  }
 },
 "nbformat": 4,
 "nbformat_minor": 5
}
